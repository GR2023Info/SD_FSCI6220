{
 "cells": [
  {
   "cell_type": "markdown",
   "metadata": {
    "_cell_guid": "b1076dfc-b9ad-4769-8c92-a6c4dae69d19",
    "_uuid": "8f2839f25d086af736a60e9eeb907d3b93b6e0e5"
   },
   "source": [
    "# Test de hypothèse\n",
    "Travaux pratique 3"
   ]
  },
  {
   "cell_type": "markdown",
   "metadata": {},
   "source": [
    "## 1-  Importer les bibliothèques nécessaires à cet exercice en Python comme suit"
   ]
  },
  {
   "cell_type": "code",
   "execution_count": 2,
   "metadata": {},
   "outputs": [],
   "source": [
    "%matplotlib inline\n",
    "\n",
    "import numpy as np\n",
    "import pandas as pd\n",
    "import scipy.stats as stats\n",
    "import matplotlib.pyplot as plt\n",
    "import math"
   ]
  },
  {
   "cell_type": "markdown",
   "metadata": {},
   "source": [
    "# test t à un échantillon"
   ]
  },
  {
   "cell_type": "markdown",
   "metadata": {},
   "source": [
    "Un test t à un échantillon vérifie si la moyenne d'un échantillon diffère de la moyenne de la population.\n"
   ]
  },
  {
   "cell_type": "markdown",
   "metadata": {},
   "source": [
    "## 2-Générer des données fictives"
   ]
  },
  {
   "cell_type": "markdown",
   "metadata": {},
   "source": [
    "Créons un ensemble de données fictif pour la population entière des employés du gouvernement fédéral du Canada et un échantillon d'employés résidant au Nouveau-Brunswick. Nous allons tester si l'âge moyen des employés du gouvernement fédéral au Nouveau-Brunswick diffère de la population."
   ]
  },
  {
   "cell_type": "markdown",
   "metadata": {},
   "source": [
    "Nous utiliserons numpy.random.seed(6) pour assurer la reproductibilité des données fictives que nous générons, afin que nous ayons tous le même jeu de données avec lequel travailler."
   ]
  },
  {
   "cell_type": "code",
   "execution_count": 10,
   "metadata": {},
   "outputs": [],
   "source": [
    "np.random.seed(6)\n"
   ]
  },
  {
   "cell_type": "markdown",
   "metadata": {},
   "source": [
    "Nous créons 250 000 données d'âge pour la population des employés du gouvernement fédéral du Canada en utilisant la fonction stats.poisson.rvs du module scipy.stats pour générer des échantillons aléatoires à partir d'une distribution de Poisson.\n",
    "\n",
    "Pour ajouter plus de diversité à notre population, créons-la en combinant deux populations de Poisson différentes, l'une avec 150 000 échantillons et l'autre avec 100 000 échantillons."
   ]
  },
  {
   "cell_type": "markdown",
   "metadata": {},
   "source": [
    "Fixons l'âge moyen des employés à 35 pour une distribution et à 10 pour l'autre. Nous allons maintenant décaler l'une des populations de +18 pour nous assurer que tous les employés ont plus de 18 ans. Complétez le reste pour créer la population combinée. Vous pouvez utiliser np.concatenate pour concaténer les données."
   ]
  },
  {
   "cell_type": "code",
   "execution_count": 11,
   "metadata": {},
   "outputs": [],
   "source": [
    "population_ages1 = stats.poisson.rvs(loc=18, mu=35, size=150000)\n",
    "### Complétez cette section\n",
    "### population_ages2=\n",
    "### population_ages=\n"
   ]
  },
  {
   "cell_type": "markdown",
   "metadata": {},
   "source": [
    "De même, créez un échantillon de taille 50 parmi les employés du Nouveau-Brunswick en concaténant deux distributions de Poisson de taille 30 et 20 avec des valeurs moyennes de 30 et 10 respectivement. Décalez à nouveau les deux distributions de 18 ans vers la droite pour vous assurer que tous les employés ont plus de 18 ans."
   ]
  },
  {
   "cell_type": "code",
   "execution_count": 12,
   "metadata": {},
   "outputs": [],
   "source": [
    "nouveau_brunswick_ages1 = stats.poisson.rvs(loc=18, mu=30, size=30)\n",
    "\n",
    "### Complétez cette section\n",
    "### nouveau_brunswick_ages2=\n",
    "### population_ages="
   ]
  },
  {
   "cell_type": "code",
   "execution_count": 13,
   "metadata": {},
   "outputs": [
    {
     "name": "stdout",
     "output_type": "stream",
     "text": [
      "43.005308\n",
      "39.26\n"
     ]
    }
   ],
   "source": [
    "print( population_ages.mean() )\n",
    "print( nouveau_brunswick_ages.mean() )"
   ]
  },
  {
   "cell_type": "markdown",
   "metadata": {},
   "source": [
    "Remarquez que nous avons utilisé une combinaison légèrement différente de distributions pour générer les données d'échantillon pour le Nouveau-Brunswick, ce qui nous permet de savoir que les deux moyennes sont différentes."
   ]
  },
  {
   "cell_type": "markdown",
   "metadata": {},
   "source": [
    "## 3- Effectuer un test t"
   ]
  },
  {
   "cell_type": "markdown",
   "metadata": {},
   "source": [
    "Effectuons maintenant un test t à un échantillon avec un niveau de confiance de 95 % et voyons s'il rejette correctement l'hypothèse nulle selon laquelle l'échantillon provient de la même distribution que la population.\n",
    "\n",
    "\n",
    "Déterminer l'hypothèse nulle et l'hypothèse alternative\n",
    "\n",
    "Pour effectuer un test t unilatéral, nous pouvons utiliser la fonction stats.ttest_1samp()\n",
    "\n",
    "Veuillez consulter\n",
    "https://docs.scipy.org/doc/scipy/reference/generated/scipy.stats.ttest_1samp.html"
   ]
  },
  {
   "cell_type": "code",
   "execution_count": 7,
   "metadata": {},
   "outputs": [],
   "source": [
    "###  Complétez cette section en effectuant un test t en utilisant stats.ttest_1samp\n"
   ]
  },
  {
   "cell_type": "markdown",
   "metadata": {},
   "source": [
    "Interprétez les résultats du test ici : "
   ]
  },
  {
   "cell_type": "markdown",
   "metadata": {},
   "source": [
    "Comme nous l'avons appris, si la statistique t se trouve en dehors des quantiles de la distribution t correspondant à notre niveau de confiance et nos degrés de liberté, nous rejetons l'hypothèse nulle.\n",
    "\n",
    "\n",
    "Nous pouvons vérifier les quantiles avec stats.t.ppf()"
   ]
  },
  {
   "cell_type": "code",
   "execution_count": 8,
   "metadata": {},
   "outputs": [],
   "source": [
    "#Complétez cette section "
   ]
  },
  {
   "cell_type": "code",
   "execution_count": 9,
   "metadata": {},
   "outputs": [],
   "source": [
    "#Complétez cette section "
   ]
  },
  {
   "cell_type": "markdown",
   "metadata": {},
   "source": [
    "\n",
    "Nous pouvons également calculer les chances d'observer un résultat aussi extrême que celui que nous avons observé (appelé la valeur p) en passant la statistique t en tant que quantile à la fonction stats.t.cdf() "
   ]
  },
  {
   "cell_type": "code",
   "execution_count": null,
   "metadata": {},
   "outputs": [],
   "source": [
    "#Complétez cette section "
   ]
  },
  {
   "cell_type": "markdown",
   "metadata": {},
   "source": [
    "# Test T à deux échantillons"
   ]
  },
  {
   "cell_type": "markdown",
   "metadata": {},
   "source": [
    "\n",
    "Un test t à deux échantillons examine si les moyennes de deux échantillons de données indépendants diffèrent l'une de l'autre. Dans un test à deux échantillons, l'hypothèse nulle est que les moyennes des deux groupes sont les mêmes. Contrairement au test à un échantillon où nous testons par rapport à un paramètre de population connu, le test à deux échantillons n'implique que les moyennes des échantillons. Vous pouvez effectuer un test t à deux échantillons en utilisant la fonction stats.ttest_ind().\n",
    "\n",
    "Générons un échantillon de données d'âge des employés de Nouvelle-Écosse et testons-le par rapport à l'échantillon que nous avons créé précédemment"
   ]
  },
  {
   "cell_type": "markdown",
   "metadata": {},
   "source": [
    "Créez un échantillon de taille 50 parmi les employés du Nouvelle-Écosse en concaténant deux distributions de Poisson de taille 30 et 20 avec des valeurs moyennes de 33 et 13 respectivement. Décalez à nouveau les deux distributions de 18 ans vers la droite pour vous assurer que tous les employés ont plus de 18 ans.\n",
    "Concaténez les deux populations pour obtenir une unique population pour la Nouvelle-Écosse.\n",
    "Utilisez une graine aléatoire (random seed) de 12 pour obtenir les mêmes résultats pour tout le monde."
   ]
  },
  {
   "cell_type": "code",
   "execution_count": 14,
   "metadata": {},
   "outputs": [],
   "source": [
    "#Complétez cette section "
   ]
  },
  {
   "cell_type": "markdown",
   "metadata": {},
   "source": [
    "Déterminez l'hypothèse nulle et l'hypothèse alternative, puis effectuez un test t entre les échantillons du Nouveau-Brunswick et de la Nouvelle-Écosse.\n",
    "Utilisez scipy.stats.ttest_ind\n",
    "https://docs.scipy.org/doc/scipy/reference/generated/scipy.stats.ttest_ind.html"
   ]
  },
  {
   "cell_type": "code",
   "execution_count": 15,
   "metadata": {},
   "outputs": [],
   "source": [
    "#Complétez cette section "
   ]
  },
  {
   "attachments": {},
   "cell_type": "markdown",
   "metadata": {},
   "source": [
    "# Test T apparié"
   ]
  },
  {
   "cell_type": "markdown",
   "metadata": {},
   "source": [
    "Le test t à deux échantillons de base est conçu pour tester les différences entre des groupes indépendants. Dans certains cas, vous pourriez être intéressé par le test des différences entre des échantillons du même groupe à différents moments. Par exemple, un hôpital pourrait vouloir tester si un médicament pour perdre du poids fonctionne en vérifiant les poids des mêmes patients avant et après le traitement. Un test t apparié vous permet de vérifier si les moyennes d'échantillons du même groupe diffèrent.\n",
    "\n",
    "Nous pouvons réaliser un test t apparié en utilisant la fonction stats.ttest_rel() de scipy. Générons des données fictives sur le poids des patients et effectuons un test t apparié:"
   ]
  },
  {
   "cell_type": "code",
   "execution_count": 16,
   "metadata": {},
   "outputs": [
    {
     "data": {
      "text/html": [
       "<div>\n",
       "<style scoped>\n",
       "    .dataframe tbody tr th:only-of-type {\n",
       "        vertical-align: middle;\n",
       "    }\n",
       "\n",
       "    .dataframe tbody tr th {\n",
       "        vertical-align: top;\n",
       "    }\n",
       "\n",
       "    .dataframe thead th {\n",
       "        text-align: right;\n",
       "    }\n",
       "</style>\n",
       "<table border=\"1\" class=\"dataframe\">\n",
       "  <thead>\n",
       "    <tr style=\"text-align: right;\">\n",
       "      <th></th>\n",
       "      <th>poid_avant</th>\n",
       "      <th>poid_apres</th>\n",
       "      <th>poid_changement</th>\n",
       "    </tr>\n",
       "  </thead>\n",
       "  <tbody>\n",
       "    <tr>\n",
       "      <th>count</th>\n",
       "      <td>100.000000</td>\n",
       "      <td>100.000000</td>\n",
       "      <td>100.000000</td>\n",
       "    </tr>\n",
       "    <tr>\n",
       "      <th>mean</th>\n",
       "      <td>250.345546</td>\n",
       "      <td>249.115171</td>\n",
       "      <td>-1.230375</td>\n",
       "    </tr>\n",
       "    <tr>\n",
       "      <th>std</th>\n",
       "      <td>28.132539</td>\n",
       "      <td>28.422183</td>\n",
       "      <td>4.783696</td>\n",
       "    </tr>\n",
       "    <tr>\n",
       "      <th>min</th>\n",
       "      <td>170.400443</td>\n",
       "      <td>165.913930</td>\n",
       "      <td>-11.495286</td>\n",
       "    </tr>\n",
       "    <tr>\n",
       "      <th>25%</th>\n",
       "      <td>230.421042</td>\n",
       "      <td>229.148236</td>\n",
       "      <td>-4.046211</td>\n",
       "    </tr>\n",
       "    <tr>\n",
       "      <th>50%</th>\n",
       "      <td>250.830805</td>\n",
       "      <td>251.134089</td>\n",
       "      <td>-1.413463</td>\n",
       "    </tr>\n",
       "    <tr>\n",
       "      <th>75%</th>\n",
       "      <td>270.637145</td>\n",
       "      <td>268.927258</td>\n",
       "      <td>1.738673</td>\n",
       "    </tr>\n",
       "    <tr>\n",
       "      <th>max</th>\n",
       "      <td>314.700233</td>\n",
       "      <td>316.720357</td>\n",
       "      <td>9.759282</td>\n",
       "    </tr>\n",
       "  </tbody>\n",
       "</table>\n",
       "</div>"
      ],
      "text/plain": [
       "       poid_avant  poid_apres  poid_changement\n",
       "count  100.000000  100.000000       100.000000\n",
       "mean   250.345546  249.115171        -1.230375\n",
       "std     28.132539   28.422183         4.783696\n",
       "min    170.400443  165.913930       -11.495286\n",
       "25%    230.421042  229.148236        -4.046211\n",
       "50%    250.830805  251.134089        -1.413463\n",
       "75%    270.637145  268.927258         1.738673\n",
       "max    314.700233  316.720357         9.759282"
      ]
     },
     "execution_count": 16,
     "metadata": {},
     "output_type": "execute_result"
    }
   ],
   "source": [
    "np.random.seed(11)\n",
    "\n",
    "avant= stats.norm.rvs(scale=30, loc=250, size=100)\n",
    "\n",
    "apres = avant + stats.norm.rvs(scale=5, loc=-1.25, size=100)\n",
    "\n",
    "poid_df = pd.DataFrame({\"poid_avant\":avant,\n",
    "                          \"poid_apres\":apres,\n",
    "                          \"poid_changement\":apres-avant})\n",
    "\n",
    "poid_df.describe()             # Check a summary of the data"
   ]
  },
  {
   "cell_type": "markdown",
   "metadata": {},
   "source": [
    "Le résumé montre que les patients ont perdu environ 1,23 livre en moyenne après le traitement. Réalisons un test t apparié pour voir si cette différence est significative à un niveau de confiance de 95 %\n",
    "\n",
    "Utilisez : stats.ttest_rel"
   ]
  },
  {
   "cell_type": "code",
   "execution_count": 18,
   "metadata": {},
   "outputs": [],
   "source": [
    "#Complétez cette section "
   ]
  }
 ],
 "metadata": {
  "kernelspec": {
   "display_name": "Python 3 (ipykernel)",
   "language": "python",
   "name": "python3"
  },
  "language_info": {
   "codemirror_mode": {
    "name": "ipython",
    "version": 3
   },
   "file_extension": ".py",
   "mimetype": "text/x-python",
   "name": "python",
   "nbconvert_exporter": "python",
   "pygments_lexer": "ipython3",
   "version": "3.9.13"
  }
 },
 "nbformat": 4,
 "nbformat_minor": 4
}
